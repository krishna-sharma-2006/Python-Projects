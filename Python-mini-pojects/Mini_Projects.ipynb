{
 "cells": [
  {
   "cell_type": "markdown",
   "id": "73268a89-403a-4403-9811-95b4c95c65e1",
   "metadata": {},
   "source": [
    "# Even or Odd Checker"
   ]
  },
  {
   "cell_type": "code",
   "execution_count": null,
   "id": "75648d58-f927-4c17-9ba4-afbc552925ae",
   "metadata": {},
   "outputs": [],
   "source": [
    "# Definig a function that do this\n",
    "def checker(num):\n",
    "    # for the invalid input, we use try\n",
    "    try:\n",
    "        if num%2 == 0:\n",
    "            print(\"This is an Even number.\")\n",
    "        elif num%2 != 0:\n",
    "            print(\"This is an Odd number.\")\n",
    "    except Exception:\n",
    "        print(\"Invalid Input\\nKindly enter an integer.\")\n",
    "\n",
    "        \n",
    "# running the function\n",
    "checker('k')"
   ]
  },
  {
   "cell_type": "code",
   "execution_count": null,
   "id": "91e62307-cf7e-4fb8-8b7c-57599a63f467",
   "metadata": {},
   "outputs": [],
   "source": []
  },
  {
   "cell_type": "markdown",
   "id": "32837522-debc-4301-b8bc-c29ae62e5702",
   "metadata": {},
   "source": [
    "# Percentage Calculator"
   ]
  },
  {
   "cell_type": "code",
   "execution_count": null,
   "id": "d98efc0d-aa0e-4cc5-ad55-dc932fb06ef0",
   "metadata": {},
   "outputs": [],
   "source": [
    "class percen_cal:\n",
    "    # Constructor \n",
    "    def __init__(self):\n",
    "        self.display()\n",
    "\n",
    "    # To welcome user\n",
    "    def display(self):\n",
    "        print('='*40)\n",
    "        print(\"    WELCOME TO PERCENTAGE CALCULATOR\")\n",
    "        print('='*40)\n",
    "        self.Values()\n",
    "    # To get values and check validity\n",
    "    def Values(self):\n",
    "        try:\n",
    "            pr_value = int(input('Enter principal value: '))\n",
    "            percent = int(input('Enter percentage(%): '))\n",
    "\n",
    "            if pr_value < 0 or percent < 0:\n",
    "                raise Exception\n",
    "        except Exception:\n",
    "            print(\"Invalid entries.\\nEnter again...\")\n",
    "            self.Values()\n",
    "        else:\n",
    "            self.calculation(pr_value,percent)\n",
    "\n",
    "    # Calculating percentage value\n",
    "    def calculation(self,pr_value,percent):\n",
    "        return print(f\"{percent}% of {pr_value} is {(percent*pr_value)/100}\")\n",
    "        \n",
    "# Making an object\n",
    "obj = percen_cal()\n",
    "        "
   ]
  },
  {
   "cell_type": "code",
   "execution_count": null,
   "id": "253357ee-daa2-458a-b8f6-2ff900e93d0d",
   "metadata": {},
   "outputs": [],
   "source": []
  }
 ],
 "metadata": {
  "kernelspec": {
   "display_name": "Python 3 (ipykernel)",
   "language": "python",
   "name": "python3"
  },
  "language_info": {
   "codemirror_mode": {
    "name": "ipython",
    "version": 3
   },
   "file_extension": ".py",
   "mimetype": "text/x-python",
   "name": "python",
   "nbconvert_exporter": "python",
   "pygments_lexer": "ipython3",
   "version": "3.13.1"
  }
 },
 "nbformat": 4,
 "nbformat_minor": 5
}
